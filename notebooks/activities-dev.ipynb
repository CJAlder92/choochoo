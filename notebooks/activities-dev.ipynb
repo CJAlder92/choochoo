{
 "cells": [
  {
   "cell_type": "code",
   "execution_count": 1,
   "metadata": {},
   "outputs": [
    {
     "name": "stderr",
     "output_type": "stream",
     "text": [
      "    INFO: Using database at /home/andrew/.ch2/database.sqlr\n",
      "    INFO: Using Activity Journal ActivityJournal Bike 2017-02-07 10:18:50 to 2017-02-07 11:50:35\n"
     ]
    },
    {
     "data": {
      "text/html": [
       "<div>\n",
       "<style scoped>\n",
       "    .dataframe tbody tr th:only-of-type {\n",
       "        vertical-align: middle;\n",
       "    }\n",
       "\n",
       "    .dataframe tbody tr th {\n",
       "        vertical-align: top;\n",
       "    }\n",
       "\n",
       "    .dataframe thead th {\n",
       "        text-align: right;\n",
       "    }\n",
       "</style>\n",
       "<table border=\"1\" class=\"dataframe\">\n",
       "  <thead>\n",
       "    <tr style=\"text-align: right;\">\n",
       "      <th></th>\n",
       "      <th>Distance</th>\n",
       "      <th>Heart Rate</th>\n",
       "      <th>Power Estimate</th>\n",
       "      <th>HR Zone</th>\n",
       "      <th>Timespan ID</th>\n",
       "    </tr>\n",
       "  </thead>\n",
       "  <tbody>\n",
       "    <tr>\n",
       "      <th>count</th>\n",
       "      <td>1183.000000</td>\n",
       "      <td>1180.000000</td>\n",
       "      <td>1183.000000</td>\n",
       "      <td>1180.000000</td>\n",
       "      <td>1172.000000</td>\n",
       "    </tr>\n",
       "    <tr>\n",
       "      <th>mean</th>\n",
       "      <td>16299.165528</td>\n",
       "      <td>112.094068</td>\n",
       "      <td>102.569651</td>\n",
       "      <td>2.136887</td>\n",
       "      <td>9152.275597</td>\n",
       "    </tr>\n",
       "    <tr>\n",
       "      <th>std</th>\n",
       "      <td>9292.581342</td>\n",
       "      <td>18.811294</td>\n",
       "      <td>146.161117</td>\n",
       "      <td>1.063538</td>\n",
       "      <td>12.065505</td>\n",
       "    </tr>\n",
       "    <tr>\n",
       "      <th>min</th>\n",
       "      <td>0.000000</td>\n",
       "      <td>69.000000</td>\n",
       "      <td>0.000000</td>\n",
       "      <td>1.000000</td>\n",
       "      <td>9093.000000</td>\n",
       "    </tr>\n",
       "    <tr>\n",
       "      <th>25%</th>\n",
       "      <td>8498.610000</td>\n",
       "      <td>95.000000</td>\n",
       "      <td>0.000000</td>\n",
       "      <td>1.000000</td>\n",
       "      <td>9154.000000</td>\n",
       "    </tr>\n",
       "    <tr>\n",
       "      <th>50%</th>\n",
       "      <td>16485.660000</td>\n",
       "      <td>111.000000</td>\n",
       "      <td>5.928585</td>\n",
       "      <td>2.271861</td>\n",
       "      <td>9155.000000</td>\n",
       "    </tr>\n",
       "    <tr>\n",
       "      <th>75%</th>\n",
       "      <td>24217.010000</td>\n",
       "      <td>132.000000</td>\n",
       "      <td>173.459564</td>\n",
       "      <td>3.246753</td>\n",
       "      <td>9155.000000</td>\n",
       "    </tr>\n",
       "    <tr>\n",
       "      <th>max</th>\n",
       "      <td>32054.430000</td>\n",
       "      <td>142.000000</td>\n",
       "      <td>628.054453</td>\n",
       "      <td>3.837072</td>\n",
       "      <td>9159.000000</td>\n",
       "    </tr>\n",
       "  </tbody>\n",
       "</table>\n",
       "</div>"
      ],
      "text/plain": [
       "           Distance   Heart Rate  Power Estimate      HR Zone  Timespan ID\n",
       "count   1183.000000  1180.000000     1183.000000  1180.000000  1172.000000\n",
       "mean   16299.165528   112.094068      102.569651     2.136887  9152.275597\n",
       "std     9292.581342    18.811294      146.161117     1.063538    12.065505\n",
       "min        0.000000    69.000000        0.000000     1.000000  9093.000000\n",
       "25%     8498.610000    95.000000        0.000000     1.000000  9154.000000\n",
       "50%    16485.660000   111.000000        5.928585     2.271861  9155.000000\n",
       "75%    24217.010000   132.000000      173.459564     3.246753  9155.000000\n",
       "max    32054.430000   142.000000      628.054453     3.837072  9159.000000"
      ]
     },
     "execution_count": 1,
     "metadata": {},
     "output_type": "execute_result"
    }
   ],
   "source": [
    "from ch2.data import *\n",
    "date = '2017-02-07 07:18:50'\n",
    "s = session('-v5')\n",
    "df = activity_statistics(s, DISTANCE, HEART_RATE, HR_ZONE, POWER_ESTIMATE, \n",
    "                         local_time=date, activity_group_name='Bike', with_timespan=True)\n",
    "df.describe()"
   ]
  },
  {
   "cell_type": "code",
   "execution_count": 2,
   "metadata": {
    "scrolled": false
   },
   "outputs": [
    {
     "name": "stdout",
     "output_type": "stream",
     "text": [
      "              Time\n",
      "count  3206.000000\n",
      "mean   2926.848337\n",
      "std    1488.315728\n",
      "min       0.000000\n",
      "25%    1725.486092\n",
      "50%    2998.738791\n",
      "75%    4215.272857\n",
      "max    5488.900474\n"
     ]
    }
   ],
   "source": [
    "import pandas as pd\n",
    "import numpy as np\n",
    "\n",
    "t4d = pd.DataFrame({TIME: df.index}, index=df[DISTANCE])\n",
    "t4d = t4d[~t4d.index.duplicated(keep='last')]\n",
    "t4d[TIME] = (t4d[TIME] - t4d[TIME].iloc[0]).astype(np.int64) / 1e9\n",
    "t4d.describe()\n",
    "lo, hi = t4d.index.min(), t4d.index.max()\n",
    "delta = 10\n",
    "lo, hi = int(lo / delta) * delta, (1 + int(hi / delta)) * delta\n",
    "ed = pd.DataFrame({'keep': True}, index=np.arange(lo, hi, delta))\n",
    "et4d = t4d.join(ed, how='outer', sort=True)\n",
    "et4d.interpolate(method='slinear', limit_area='inside', inplace=True)\n",
    "et4d = et4d.loc[et4d['keep'] == True].drop(columns=['keep'])\n",
    "print(et4d.describe())"
   ]
  },
  {
   "cell_type": "code",
   "execution_count": 3,
   "metadata": {
    "scrolled": true
   },
   "outputs": [
    {
     "name": "stdout",
     "output_type": "stream",
     "text": [
      "                Time\n",
      "0.0              NaN\n",
      "10.0             NaN\n",
      "20.0             NaN\n",
      "30.0             NaN\n",
      "40.0             NaN\n",
      "50.0             NaN\n",
      "60.0             NaN\n",
      "70.0             NaN\n",
      "80.0             NaN\n",
      "90.0             NaN\n",
      "100.0            NaN\n",
      "110.0            NaN\n",
      "120.0            NaN\n",
      "130.0            NaN\n",
      "140.0            NaN\n",
      "150.0            NaN\n",
      "160.0            NaN\n",
      "170.0            NaN\n",
      "180.0            NaN\n",
      "190.0            NaN\n",
      "200.0            NaN\n",
      "210.0            NaN\n",
      "220.0            NaN\n",
      "230.0            NaN\n",
      "240.0            NaN\n",
      "250.0            NaN\n",
      "260.0            NaN\n",
      "270.0            NaN\n",
      "280.0            NaN\n",
      "290.0            NaN\n",
      "...              ...\n",
      "31760.0  1566.151223\n",
      "31770.0  1566.364180\n",
      "31780.0  1566.501459\n",
      "31790.0  1566.549431\n",
      "31800.0  1566.684205\n",
      "31810.0  1566.881720\n",
      "31820.0  1567.205588\n",
      "31830.0  1567.542565\n",
      "31840.0  1568.034603\n",
      "31850.0  1568.533102\n",
      "31860.0  1569.031601\n",
      "31870.0  1569.530100\n",
      "31880.0  1570.135551\n",
      "31890.0  1570.844937\n",
      "31900.0  1571.446962\n",
      "31910.0  1571.930852\n",
      "31920.0  1572.358903\n",
      "31930.0  1572.731114\n",
      "31940.0  1573.103324\n",
      "31950.0  1573.414494\n",
      "31960.0  1573.702297\n",
      "31970.0  1573.927924\n",
      "31980.0  1574.192332\n",
      "31990.0  1574.468850\n",
      "32000.0  1574.787479\n",
      "32010.0  1575.275376\n",
      "32020.0  1576.041208\n",
      "32030.0  1576.807040\n",
      "32040.0  1577.572872\n",
      "32050.0  1578.803841\n",
      "\n",
      "[3206 rows x 1 columns]\n"
     ]
    }
   ],
   "source": [
    "d = 10  # km\n",
    "n = d * 1000 / delta  # bins\n",
    "print(et4d.diff(periods=n))"
   ]
  },
  {
   "cell_type": "code",
   "execution_count": 4,
   "metadata": {},
   "outputs": [
    {
     "name": "stderr",
     "output_type": "stream",
     "text": [
      "   DEBUG: Linear resample with type <class 'pandas.core.indexes.numeric.Float64Index'>, columns Index(['Time'], dtype='object')\n"
     ]
    },
    {
     "name": "stdout",
     "output_type": "stream",
     "text": [
      "{'Min 5km Time': 626.5516572078723, 'Med 5km Time': 768.7816192945772, 'Min 10km Time': 1388.198709207476, 'Med 10km Time': 1561.0595238557944, 'Min 15km Time': 2162.105926772734, 'Med 15km Time': 2330.5670497458195, 'Min 20km Time': 2969.74279720213, 'Med 20km Time': 3094.506905951884, 'Min 25km Time': 3709.8855713420926, 'Med 25km Time': 3996.6095037844943}\n"
     ]
    }
   ],
   "source": [
    "from ch2.data.activity import *\n",
    "\n",
    "print(times_for_distance(df))"
   ]
  },
  {
   "cell_type": "code",
   "execution_count": 5,
   "metadata": {},
   "outputs": [
    {
     "name": "stdout",
     "output_type": "stream",
     "text": [
      "[104.72, 127.82, 144.76, 161.7, 186.34, 1538.46]\n"
     ]
    }
   ],
   "source": [
    "from ch2.data.heart_rate import *\n",
    "from ch2.squeal import *\n",
    "from ch2.lib.date import *\n",
    "\n",
    "# upper limits\n",
    "zones = hr_zones_from_database(s, s.query(ActivityGroup).filter(ActivityGroup.name == 'Bike').one(), \n",
    "                               local_time_to_time(date))\n",
    "print(zones)"
   ]
  },
  {
   "cell_type": "code",
   "execution_count": 6,
   "metadata": {},
   "outputs": [
    {
     "name": "stderr",
     "output_type": "stream",
     "text": [
      "   DEBUG: Linear resample with type <class 'pandas.core.indexes.datetimes.DatetimeIndex'>, columns Index(['Distance', 'Heart Rate', 'Power Estimate', 'HR Zone', 'Timespan ID'], dtype='object')\n"
     ]
    },
    {
     "name": "stdout",
     "output_type": "stream",
     "text": [
      "(Interval(0, 1, closed='right'), 662)\n",
      "(Interval(3, 4, closed='right'), 613)\n",
      "(Interval(2, 3, closed='right'), 429)\n",
      "(Interval(1, 2, closed='right'), 26)\n",
      "(Interval(5, 6, closed='right'), 0)\n",
      "(Interval(4, 5, closed='right'), 0)\n"
     ]
    }
   ],
   "source": [
    "ldf = linear_resample_time(df)\n",
    "hrz = pd.cut(ldf[HR_ZONE], bins=range(7)).value_counts()\n",
    "for x in hrz.iteritems():\n",
    "    print(x)"
   ]
  },
  {
   "cell_type": "code",
   "execution_count": 7,
   "metadata": {},
   "outputs": [
    {
     "name": "stderr",
     "output_type": "stream",
     "text": [
      "   DEBUG: Linear resample with type <class 'pandas.core.indexes.datetimes.DatetimeIndex'>, columns Index(['Distance', 'Heart Rate', 'Power Estimate', 'HR Zone', 'Timespan ID'], dtype='object')\n"
     ]
    },
    {
     "name": "stdout",
     "output_type": "stream",
     "text": [
      "{'Percent in Z1': 38.26589595375722, 'Time in Z1': 1986.0, 'Percent in Z4': 35.433526011560694, 'Time in Z4': 1839.0, 'Percent in Z3': 24.797687861271676, 'Time in Z3': 1287.0, 'Percent in Z2': 1.5028901734104045, 'Time in Z2': 78.0, 'Percent in Z6': 0.0, 'Time in Z6': 0.0, 'Percent in Z5': 0.0, 'Time in Z5': 0.0}\n"
     ]
    }
   ],
   "source": [
    "print(hrz_stats(df))"
   ]
  },
  {
   "cell_type": "code",
   "execution_count": 8,
   "metadata": {},
   "outputs": [
    {
     "name": "stderr",
     "output_type": "stream",
     "text": [
      "   DEBUG: Linear resample with type <class 'pandas.core.indexes.datetimes.DatetimeIndex'>, columns Index(['Distance', 'Heart Rate', 'Power Estimate', 'HR Zone', 'Timespan ID'], dtype='object')\n"
     ]
    },
    {
     "name": "stdout",
     "output_type": "stream",
     "text": [
      "{'Max Med EP 5m': nan, 'Max Med EP 10m': 612.3218920869258, 'Max Med EP 30m': 422.4286949119414, 'Max Med EP 60m': 252.29633772000184, 'Max Med EP 90m': 242.2063112390982, 'Max Med EP 120m': 212.05775709298328, 'Max Med EP 180m': 200.92245669369575}\n"
     ]
    },
    {
     "name": "stderr",
     "output_type": "stream",
     "text": [
      "/home/andrew/project/ch2/choochoo/ch2/data/activity.py:60: RuntimeWarning: invalid value encountered in double_scalars\n",
      "  stats[template % target] = diff.max() / n\n"
     ]
    }
   ],
   "source": [
    "print(max_mean(df))"
   ]
  },
  {
   "cell_type": "code",
   "execution_count": 9,
   "metadata": {},
   "outputs": [
    {
     "name": "stderr",
     "output_type": "stream",
     "text": [
      "   DEBUG: Linear resample with type <class 'pandas.core.indexes.datetimes.DatetimeIndex'>, columns Index(['Distance', 'Heart Rate', 'Power Estimate', 'HR Zone', 'Timespan ID'], dtype='object')\n",
      "   DEBUG: Largest gap is 90.0s\n",
      "   DEBUG: Target 5m is 30 samples (delta 10s)\n",
      "   DEBUG: Split data into 9 sections for 5m with max gap of 15.0s\n",
      "   DEBUG: Target 10m is 60 samples (delta 10s)\n",
      "   DEBUG: Split data into 9 sections for 10m with max gap of 15.0s\n",
      "   DEBUG: Target 30m is 180 samples (delta 10s)\n",
      "   DEBUG: Split data into 9 sections for 30m with max gap of 18.0s\n",
      "   DEBUG: Target 60m is 360 samples (delta 10s)\n",
      "   DEBUG: Split data into 6 sections for 60m with max gap of 36.0s\n",
      "   DEBUG: Target 90m is 540 samples (delta 10s)\n",
      "   DEBUG: Split data into 3 sections for 90m with max gap of 54.0s\n",
      "   DEBUG: Target 120m is 720 samples (delta 10s)\n",
      "   DEBUG: Split data into 3 sections for 120m with max gap of 72.0s\n",
      "   DEBUG: Target 180m is 1080 samples (delta 10s)\n",
      "   DEBUG: Split data into 1 sections for 180m with max gap of 108.0s\n"
     ]
    },
    {
     "name": "stdout",
     "output_type": "stream",
     "text": [
      "{'Max Med HR 5m': 132.25, 'Max Med HR 10m': 131.91666666666669, 'Max Med HR 30m': 126.23611111111111}\n"
     ]
    }
   ],
   "source": [
    "print(max_med(df))"
   ]
  }
 ],
 "metadata": {
  "kernelspec": {
   "display_name": "Python 3",
   "language": "python",
   "name": "python3"
  },
  "language_info": {
   "codemirror_mode": {
    "name": "ipython",
    "version": 3
   },
   "file_extension": ".py",
   "mimetype": "text/x-python",
   "name": "python",
   "nbconvert_exporter": "python",
   "pygments_lexer": "ipython3",
   "version": "3.7.0"
  }
 },
 "nbformat": 4,
 "nbformat_minor": 2
}
