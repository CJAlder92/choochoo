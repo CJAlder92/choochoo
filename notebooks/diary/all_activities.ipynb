{
 "cells": [
  {
   "cell_type": "code",
   "execution_count": 1,
   "metadata": {
    "scrolled": false
   },
   "outputs": [
    {
     "data": {
      "text/html": [
       "\n",
       "    <div class=\"bk-root\">\n",
       "        <a href=\"https://bokeh.pydata.org\" target=\"_blank\" class=\"bk-logo bk-logo-small bk-logo-notebook\"></a>\n",
       "        <span id=\"6001\">Loading BokehJS ...</span>\n",
       "    </div>"
      ]
     },
     "metadata": {},
     "output_type": "execute_result"
    },
    {
     "data": {},
     "metadata": {},
     "output_type": "display_data"
    },
    {
     "data": {
      "text/html": [
       "\n",
       "\n",
       "\n",
       "\n",
       "\n",
       "\n",
       "  <div class=\"bk-root\" id=\"2a3313ce-d302-494b-bd65-dafbcc543052\" data-root-id=\"6014\"></div>\n"
      ]
     },
     "metadata": {},
     "output_type": "execute_result"
    },
    {
     "data": {},
     "metadata": {
      "application/vnd.bokehjs_exec.v0+json": {
       "id": "6014"
      }
     },
     "output_type": "display_data"
    }
   ],
   "source": [
    "from ch2.data import *\n",
    "from ch2.squeal import *\n",
    "from ch2.uranus.notebook.plot import *\n",
    "\n",
    "from bokeh.plotting import output_notebook, show\n",
    "from bokeh.layouts import row, column\n",
    "\n",
    "s = session('-v2')\n",
    "\n",
    "start = '2016-01-01 00:00:00'\n",
    "finish = '2017-01-01 00:00:00'\n",
    "\n",
    "maps = [[]]\n",
    "for aj in s.query(ActivityJournal).filter(ActivityJournal.start >= start, \n",
    "                                          ActivityJournal.start < finish).all():\n",
    "    data = activity_statistics(s, SPHERICAL_MERCATOR_X, SPHERICAL_MERCATOR_Y,\n",
    "                               activity_journal_id=aj.id).resample('1min').mean()\n",
    "    if len(data.dropna()) > 10:\n",
    "        map = map_thumbnail(100, 120, data)\n",
    "        if len(maps[-1]) > 8: maps.append([])\n",
    "        maps[-1].append(map)\n",
    "    \n",
    "output_notebook()\n",
    "show(column([row(m) for m in maps]))\n",
    "\n",
    "    "
   ]
  }
 ],
 "metadata": {
  "kernelspec": {
   "display_name": "Python 3",
   "language": "python",
   "name": "python3"
  },
  "language_info": {
   "codemirror_mode": {
    "name": "ipython",
    "version": 3
   },
   "file_extension": ".py",
   "mimetype": "text/x-python",
   "name": "python",
   "nbconvert_exporter": "python",
   "pygments_lexer": "ipython3",
   "version": "3.7.0"
  }
 },
 "nbformat": 4,
 "nbformat_minor": 2
}
