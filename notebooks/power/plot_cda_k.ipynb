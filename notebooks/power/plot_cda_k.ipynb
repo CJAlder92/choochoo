{
 "cells": [
  {
   "cell_type": "code",
   "execution_count": null,
   "metadata": {},
   "outputs": [],
   "source": [
    "import pandas as pd\n",
    "from ch2.uranus.route.cda import *\n",
    "from ch2.data import *\n",
    "from ch2.squeal.database import connect\n",
    "\n",
    "_, log, db = connect(['-v 0'])\n",
    "with db.session_context() as s:\n",
    "    df = accumulate_cda_crr(64 + 12, \n",
    "                            expand_bookmarks(log, s,\n",
    "                                             filter_bookmarks(s, 0,\n",
    "                                                              read_bookmarks(s, '60s/0ms'))))\n",
    "df.describe()"
   ]
  },
  {
   "cell_type": "code",
   "execution_count": null,
   "metadata": {
    "scrolled": false
   },
   "outputs": [],
   "source": [
    "from bokeh.plotting import figure, output_notebook, show\n",
    "\n",
    "output_notebook()\n",
    "f = figure(plot_width=500, plot_height=400)\n",
    "f.multi_line(xs='CdA', ys='Crr', source=df, line_alpha=0.1, line_color='black')\n",
    "f.xaxis.axis_label = 'CdA'\n",
    "f.yaxis.axis_label = 'Crr'\n",
    "show(f)"
   ]
  },
  {
   "cell_type": "code",
   "execution_count": null,
   "metadata": {},
   "outputs": [],
   "source": [
    "import numpy as np\n",
    "\n",
    "r = np.linspace(0, 1.5, 100)\n",
    "w = r[1] - r[0]\n",
    "cda_0 = pd.DataFrame(columns=['CdA'], data=[cda[1] for cda in df['CdA']])\n",
    "bins = cda_0.groupby(pd.cut(cda_0['CdA'], r)).size()\n",
    "print(bins.describe())\n",
    "\n",
    "f = figure(plot_width=900, plot_height=300)\n",
    "f.quad(top=bins, left=r[:-1]+0.1*w, right=r[1:]-0.1*w, bottom=0)\n",
    "show(f)"
   ]
  },
  {
   "cell_type": "code",
   "execution_count": null,
   "metadata": {},
   "outputs": [],
   "source": [
    "import scipy as sp\n",
    "from scipy.optimize import fmin\n",
    "\n",
    "cda = pd.DataFrame({'CdA': 0.5 * (r[:-1] + r[1:]), 'n': bins.values})\n",
    "f = figure(plot_width=900, plot_height=300)\n",
    "# f.circle(x='CdA', y='n', source=cda)\n",
    "f.quad(top=bins, left=r[:-1]+0.1*w, right=r[1:]-0.1*w, bottom=0)\n",
    "for order in range(2, 20, 2):\n",
    "    coeff = sp.polyfit(cda['CdA'], cda['n'], order)\n",
    "    p = sp.poly1d(coeff)\n",
    "    print(order, fmin(lambda x: -p(x), 0.6, disp=0)[0])\n",
    "    f.line(x=cda['CdA'], y=p(cda['CdA']), line_color='orange')\n",
    "show(f)         \n"
   ]
  },
  {
   "cell_type": "code",
   "execution_count": null,
   "metadata": {},
   "outputs": [],
   "source": [
    "with db.session_context() as s:\n",
    "    df = accumulate_crr(67 + 12, \n",
    "                        expand_bookmarks(log, s,\n",
    "                                         filter_bookmarks(s, 0,\n",
    "                                                          read_bookmarks(s, '60s'))),\n",
    "                       cda=0.55)\n",
    "df.describe()"
   ]
  },
  {
   "cell_type": "code",
   "execution_count": null,
   "metadata": {},
   "outputs": [],
   "source": [
    "r = np.linspace(0, 100, 100)\n",
    "w = r[1] - r[0]\n",
    "bins = df.groupby(pd.cut(df['Crr'], r)).size()\n",
    "print(bins.describe())\n",
    "\n",
    "f = figure(plot_width=900, plot_height=300)\n",
    "f.quad(top=bins, left=r[:-1]+0.1*w, right=r[1:]-0.1*w, bottom=0)\n",
    "show(f)\n",
    "\n"
   ]
  }
 ],
 "metadata": {
  "kernelspec": {
   "display_name": "Python 3",
   "language": "python",
   "name": "python3"
  },
  "language_info": {
   "codemirror_mode": {
    "name": "ipython",
    "version": 3
   },
   "file_extension": ".py",
   "mimetype": "text/x-python",
   "name": "python",
   "nbconvert_exporter": "python",
   "pygments_lexer": "ipython3",
   "version": "3.7.0"
  }
 },
 "nbformat": 4,
 "nbformat_minor": 2
}
