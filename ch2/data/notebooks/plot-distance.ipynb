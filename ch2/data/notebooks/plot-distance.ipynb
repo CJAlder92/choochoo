{
 "cells": [
  {
   "cell_type": "code",
   "execution_count": 11,
   "metadata": {},
   "outputs": [
    {
     "name": "stdout",
     "output_type": "stream",
     "text": [
      "              name units  count\n",
      "0  Active Distance     m    335\n",
      "1     Active Speed  km/h    335\n",
      "2      Active Time     s    335\n",
      "        Active Time  Active Speed  Active Distance\n",
      "count    332.000000    332.000000       332.000000\n",
      "mean    9031.370482     20.332564     51085.490964\n",
      "std     6819.370063      2.839999     40386.587769\n",
      "min      473.000000      4.266232      1284.610000\n",
      "25%     3327.750000     18.504345     17707.575000\n",
      "50%     6861.500000     20.895487     38604.960000\n",
      "75%    15025.000000     22.188411     78154.882500\n",
      "max    29829.000000     33.143724    175252.590000\n"
     ]
    }
   ],
   "source": [
    "from ch2.data import data\n",
    "d = data('-v', '0')\n",
    "stats = d.statistics('Active %')\n",
    "print(stats[['name', 'units', 'count']])\n",
    "data = d.statistic_journals('Active %')\n",
    "print(data.describe())"
   ]
  },
  {
   "cell_type": "code",
   "execution_count": 7,
   "metadata": {},
   "outputs": [
    {
     "data": {
      "text/html": [
       "\n",
       "    <div class=\"bk-root\">\n",
       "        <a href=\"https://bokeh.pydata.org\" target=\"_blank\" class=\"bk-logo bk-logo-small bk-logo-notebook\"></a>\n",
       "        <span id=\"ed7f931d-00f3-4b56-ae78-1e4f998f3c43\">Loading BokehJS ...</span>\n",
       "    </div>"
      ]
     },
     "metadata": {},
     "output_type": "execute_result"
    },
    {
     "data": {},
     "metadata": {},
     "output_type": "display_data"
    },
    {
     "data": {
      "text/html": [
       "\n",
       "\n",
       "\n",
       "\n",
       "\n",
       "\n",
       "  <div class=\"bk-root\" id=\"a10e4119-a501-4f7e-bdd6-5195124a7426\"></div>\n"
      ]
     },
     "metadata": {},
     "output_type": "execute_result"
    },
    {
     "data": {},
     "metadata": {
      "application/vnd.bokehjs_exec.v0+json": {
       "id": "2f295c06-b7d1-4127-ae0a-34bfaeccaa0a"
      }
     },
     "output_type": "display_data"
    }
   ],
   "source": [
    "from bokeh.plotting import figure, output_notebook, show\n",
    "output_notebook()\n",
    "f = figure(plot_width=800, plot_height=250, x_axis_type='datetime', title='Distance for all rides')\n",
    "f.circle(x=data.index, y=data['Active Distance'] / 1000)\n",
    "f.xaxis.axis_label = 'Date'\n",
    "f.yaxis.axis_label = 'Distance / km'\n",
    "show(f)"
   ]
  }
 ],
 "metadata": {
  "kernelspec": {
   "display_name": "Python 3",
   "language": "python",
   "name": "python3"
  },
  "language_info": {
   "codemirror_mode": {
    "name": "ipython",
    "version": 3
   },
   "file_extension": ".py",
   "mimetype": "text/x-python",
   "name": "python",
   "nbconvert_exporter": "python",
   "pygments_lexer": "ipython3",
   "version": "3.7.0"
  }
 },
 "nbformat": 4,
 "nbformat_minor": 2
}
